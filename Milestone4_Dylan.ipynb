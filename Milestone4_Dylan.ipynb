{
 "cells": [
  {
   "cell_type": "markdown",
   "metadata": {},
   "source": [
    "# <img style=\"float: left; padding-right: 10px; width: 45px\" src=\"https://raw.githubusercontent.com/Harvard-IACS/2018-CS109A/master/content/styles/iacs.png\"> CS109A Introduction to Data Science: \n",
    "\n",
    "## Final Project Group 40: Trump Tweets and Market Volatility\n",
    "\n",
    "\n",
    "**Harvard University**<br/>\n",
    "**Fall 2019**<br/>\n",
    "**Group**: Dylan DeMarco, Daiki Ina, Roger Zhang, Jerry Huang\n",
    "\n",
    "<hr style=\"height:2pt\">"
   ]
  },
  {
   "cell_type": "code",
   "execution_count": 67,
   "metadata": {},
   "outputs": [],
   "source": [
    "import requests\n",
    "from IPython.core.display import HTML, display\n",
    "styles = requests.get(\"https://raw.githubusercontent.com/Harvard-IACS/2018-CS109A/master/content/styles/cs109.css\").text\n",
    "HTML(styles)\n",
    "import numpy as np\n",
    "import pandas as pd\n",
    "import matplotlib.pyplot as plt\n",
    "\n",
    "%matplotlib inline\n",
    "\n",
    "import seaborn as sns\n",
    "sns.set(style='whitegrid')\n",
    "pd.set_option('display.width', 1500)\n",
    "pd.set_option('display.max_columns', 100)\n",
    "\n",
    "import pandas_profiling"
   ]
  },
  {
   "cell_type": "code",
   "execution_count": 68,
   "metadata": {},
   "outputs": [],
   "source": [
    "vix_df = pd.read_csv('./data/raw/vix_data.csv', index_col=0)\n",
    "vix_df.Date = pd.to_datetime(vix_df.Date)\n",
    "# We only use Open in our models\n",
    "vix_df = vix_df.drop(columns=['VIX High', 'VIX Low', 'VIX Close'])\n",
    "# Drop enough days to use DOW even in models where we don't need it for fair comparison\n",
    "vix_df = vix_df.loc[vix_df.Date > '2016-11-16']"
   ]
  },
  {
   "cell_type": "code",
   "execution_count": 72,
   "metadata": {},
   "outputs": [
    {
     "data": {
      "text/html": [
       "<div>\n",
       "<style scoped>\n",
       "    .dataframe tbody tr th:only-of-type {\n",
       "        vertical-align: middle;\n",
       "    }\n",
       "\n",
       "    .dataframe tbody tr th {\n",
       "        vertical-align: top;\n",
       "    }\n",
       "\n",
       "    .dataframe thead th {\n",
       "        text-align: right;\n",
       "    }\n",
       "</style>\n",
       "<table border=\"1\" class=\"dataframe\">\n",
       "  <thead>\n",
       "    <tr style=\"text-align: right;\">\n",
       "      <th></th>\n",
       "      <th>source</th>\n",
       "      <th>text</th>\n",
       "      <th>created_at</th>\n",
       "      <th>retweet_count</th>\n",
       "      <th>favorite_count</th>\n",
       "      <th>is_retweet</th>\n",
       "      <th>id_str</th>\n",
       "    </tr>\n",
       "  </thead>\n",
       "  <tbody>\n",
       "    <tr>\n",
       "      <td>0</td>\n",
       "      <td>Twitter for Android</td>\n",
       "      <td>Such a beautiful and important evening! The fo...</td>\n",
       "      <td>11-09-2016 11:36:58</td>\n",
       "      <td>220796</td>\n",
       "      <td>633253</td>\n",
       "      <td>False</td>\n",
       "      <td>796315640307060738</td>\n",
       "    </tr>\n",
       "    <tr>\n",
       "      <td>1</td>\n",
       "      <td>Twitter for iPhone</td>\n",
       "      <td>Happy 241st birthday to the U.S. Marine Corps!...</td>\n",
       "      <td>11-10-2016 19:31:27</td>\n",
       "      <td>45576</td>\n",
       "      <td>169729</td>\n",
       "      <td>False</td>\n",
       "      <td>796797436752707585</td>\n",
       "    </tr>\n",
       "    <tr>\n",
       "      <td>2</td>\n",
       "      <td>Twitter for Android</td>\n",
       "      <td>A fantastic day in D.C. Met with President Oba...</td>\n",
       "      <td>11-11-2016 02:10:46</td>\n",
       "      <td>37788</td>\n",
       "      <td>192638</td>\n",
       "      <td>False</td>\n",
       "      <td>796897928048766976</td>\n",
       "    </tr>\n",
       "  </tbody>\n",
       "</table>\n",
       "</div>"
      ],
      "text/plain": [
       "                source                                               text           created_at  retweet_count  favorite_count is_retweet              id_str\n",
       "0  Twitter for Android  Such a beautiful and important evening! The fo...  11-09-2016 11:36:58         220796          633253      False  796315640307060738\n",
       "1   Twitter for iPhone  Happy 241st birthday to the U.S. Marine Corps!...  11-10-2016 19:31:27          45576          169729      False  796797436752707585\n",
       "2  Twitter for Android  A fantastic day in D.C. Met with President Oba...  11-11-2016 02:10:46          37788          192638      False  796897928048766976"
      ]
     },
     "execution_count": 72,
     "metadata": {},
     "output_type": "execute_result"
    }
   ],
   "source": [
    "tweet_df = pd.read_csv('./data/raw/tweet_data.csv', index_col=0)\n",
    "tweet_df.head(3)\n",
    "# tweet_count = tweet_df.groupby('day').count()\n",
    "# tweet_daily = tweet_df.groupby('day').sum()"
   ]
  },
  {
   "cell_type": "code",
   "execution_count": null,
   "metadata": {},
   "outputs": [],
   "source": [
    "# Group tweets\n",
    "# https://stackoverflow.com/questions/14529838/apply-multiple-functions-to-multiple-groupby-columns\n",
    "tweet_df.groupby('ref_date').agg({'polarity':['mean', 'max'], \n",
    "                         'word_mentions':'sum', })\n",
    "\n"
   ]
  },
  {
   "cell_type": "code",
   "execution_count": 60,
   "metadata": {},
   "outputs": [
    {
     "data": {
      "text/html": [
       "<div>\n",
       "<style scoped>\n",
       "    .dataframe tbody tr th:only-of-type {\n",
       "        vertical-align: middle;\n",
       "    }\n",
       "\n",
       "    .dataframe tbody tr th {\n",
       "        vertical-align: top;\n",
       "    }\n",
       "\n",
       "    .dataframe thead th {\n",
       "        text-align: right;\n",
       "    }\n",
       "</style>\n",
       "<table border=\"1\" class=\"dataframe\">\n",
       "  <thead>\n",
       "    <tr style=\"text-align: right;\">\n",
       "      <th></th>\n",
       "      <th>Date</th>\n",
       "      <th>dow_d_min_1</th>\n",
       "      <th>dow_d_min_2</th>\n",
       "      <th>dow_d_min_3</th>\n",
       "      <th>dow_d_min_4</th>\n",
       "      <th>dow_d_min_5</th>\n",
       "    </tr>\n",
       "  </thead>\n",
       "  <tbody>\n",
       "    <tr>\n",
       "      <td>0</td>\n",
       "      <td>2016-11-17</td>\n",
       "      <td>83.958984</td>\n",
       "      <td>119.199219</td>\n",
       "      <td>118.300781</td>\n",
       "      <td>118.818359</td>\n",
       "      <td>270.519531</td>\n",
       "    </tr>\n",
       "    <tr>\n",
       "      <td>1</td>\n",
       "      <td>2016-11-18</td>\n",
       "      <td>58.759766</td>\n",
       "      <td>83.958984</td>\n",
       "      <td>119.199219</td>\n",
       "      <td>118.300781</td>\n",
       "      <td>118.818359</td>\n",
       "    </tr>\n",
       "    <tr>\n",
       "      <td>2</td>\n",
       "      <td>2016-11-21</td>\n",
       "      <td>61.910156</td>\n",
       "      <td>58.759766</td>\n",
       "      <td>83.958984</td>\n",
       "      <td>119.199219</td>\n",
       "      <td>118.300781</td>\n",
       "    </tr>\n",
       "  </tbody>\n",
       "</table>\n",
       "</div>"
      ],
      "text/plain": [
       "         Date  dow_d_min_1  dow_d_min_2  dow_d_min_3  dow_d_min_4  dow_d_min_5\n",
       "0  2016-11-17    83.958984   119.199219   118.300781   118.818359   270.519531\n",
       "1  2016-11-18    58.759766    83.958984   119.199219   118.300781   118.818359\n",
       "2  2016-11-21    61.910156    58.759766    83.958984   119.199219   118.300781"
      ]
     },
     "execution_count": 60,
     "metadata": {},
     "output_type": "execute_result"
    }
   ],
   "source": [
    "dow_df = pd.read_csv('./data/raw/dow_range_past5days_data.csv')\n",
    "dow_df.head(3)"
   ]
  },
  {
   "cell_type": "markdown",
   "metadata": {},
   "source": [
    "### Base Model"
   ]
  },
  {
   "cell_type": "code",
   "execution_count": null,
   "metadata": {},
   "outputs": [],
   "source": []
  },
  {
   "cell_type": "markdown",
   "metadata": {},
   "source": [
    "### Num Tweets"
   ]
  },
  {
   "cell_type": "markdown",
   "metadata": {},
   "source": [
    "### Num Tweets (Filtered)"
   ]
  },
  {
   "cell_type": "markdown",
   "metadata": {},
   "source": [
    "### Granular Tweet"
   ]
  },
  {
   "cell_type": "markdown",
   "metadata": {},
   "source": [
    "### Granular Tweet (Filtered)"
   ]
  },
  {
   "cell_type": "markdown",
   "metadata": {},
   "source": [
    "### Granular Tweet + DOW"
   ]
  },
  {
   "cell_type": "code",
   "execution_count": null,
   "metadata": {},
   "outputs": [],
   "source": []
  },
  {
   "cell_type": "code",
   "execution_count": null,
   "metadata": {},
   "outputs": [],
   "source": []
  }
 ],
 "metadata": {
  "kernelspec": {
   "display_name": "Python 3",
   "language": "python",
   "name": "python3"
  },
  "language_info": {
   "codemirror_mode": {
    "name": "ipython",
    "version": 3
   },
   "file_extension": ".py",
   "mimetype": "text/x-python",
   "name": "python",
   "nbconvert_exporter": "python",
   "pygments_lexer": "ipython3",
   "version": "3.7.3"
  }
 },
 "nbformat": 4,
 "nbformat_minor": 2
}

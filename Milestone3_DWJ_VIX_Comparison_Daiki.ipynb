{
 "cells": [
  {
   "cell_type": "markdown",
   "metadata": {},
   "source": [
    "# <img style=\"float: left; padding-right: 10px; width: 45px\" src=\"https://raw.githubusercontent.com/Harvard-IACS/2018-CS109A/master/content/styles/iacs.png\"> CS109A Introduction to Data Science: \n",
    "\n",
    "## Final Project Group 40: Trump Tweets and Market Volatility\n",
    "\n",
    "\n",
    "**Harvard University**<br/>\n",
    "**Fall 2019**<br/>\n",
    "**Group**: Dylan DeMarco, Daiki Ina, Roger Zhang, Jerry Huang\n",
    "\n",
    "<hr style=\"height:2pt\">"
   ]
  },
  {
   "cell_type": "code",
   "execution_count": 1,
   "metadata": {},
   "outputs": [
    {
     "data": {
      "text/html": [
       "<style>\n",
       "blockquote { background: #AEDE94; }\n",
       "h1 { \n",
       "    padding-top: 25px;\n",
       "    padding-bottom: 25px;\n",
       "    text-align: left; \n",
       "    padding-left: 10px;\n",
       "    background-color: #DDDDDD; \n",
       "    color: black;\n",
       "}\n",
       "h2 { \n",
       "    padding-top: 10px;\n",
       "    padding-bottom: 10px;\n",
       "    text-align: left; \n",
       "    padding-left: 5px;\n",
       "    background-color: #EEEEEE; \n",
       "    color: black;\n",
       "}\n",
       "\n",
       "div.exercise {\n",
       "\tbackground-color: #ffcccc;\n",
       "\tborder-color: #E9967A; \t\n",
       "\tborder-left: 5px solid #800080; \n",
       "\tpadding: 0.5em;\n",
       "}\n",
       "\n",
       "span.sub-q {\n",
       "\tfont-weight: bold;\n",
       "}\n",
       "div.theme {\n",
       "\tbackground-color: #DDDDDD;\n",
       "\tborder-color: #E9967A; \t\n",
       "\tborder-left: 5px solid #800080; \n",
       "\tpadding: 0.5em;\n",
       "\tfont-size: 18pt;\n",
       "}\n",
       "div.gc { \n",
       "\tbackground-color: #AEDE94;\n",
       "\tborder-color: #E9967A; \t \n",
       "\tborder-left: 5px solid #800080; \n",
       "\tpadding: 0.5em;\n",
       "\tfont-size: 12pt;\n",
       "}\n",
       "p.q1 { \n",
       "    padding-top: 5px;\n",
       "    padding-bottom: 5px;\n",
       "    text-align: left; \n",
       "    padding-left: 5px;\n",
       "    background-color: #EEEEEE; \n",
       "    color: black;\n",
       "}\n",
       "header {\n",
       "   padding-top: 35px;\n",
       "    padding-bottom: 35px;\n",
       "    text-align: left; \n",
       "    padding-left: 10px;\n",
       "    background-color: #DDDDDD; \n",
       "    color: black;\n",
       "}\n",
       "</style>\n",
       "\n"
      ],
      "text/plain": [
       "<IPython.core.display.HTML object>"
      ]
     },
     "execution_count": 1,
     "metadata": {},
     "output_type": "execute_result"
    }
   ],
   "source": [
    "import requests\n",
    "from IPython.core.display import HTML, display\n",
    "styles = requests.get(\"https://raw.githubusercontent.com/Harvard-IACS/2018-CS109A/master/content/styles/cs109.css\").text\n",
    "HTML(styles)"
   ]
  },
  {
   "cell_type": "code",
   "execution_count": 2,
   "metadata": {},
   "outputs": [],
   "source": [
    "import requests\n",
    "from IPython.core.display import HTML, display\n",
    "styles = requests.get(\"https://raw.githubusercontent.com/Harvard-IACS/2018-CS109A/master/content/styles/cs109.css\").text\n",
    "HTML(styles)\n",
    "import numpy as np\n",
    "import pandas as pd\n",
    "import matplotlib.pyplot as plt\n",
    "\n",
    "%matplotlib inline\n",
    "\n",
    "import seaborn as sns\n",
    "sns.set(style='whitegrid')\n",
    "pd.set_option('display.width', 1500)\n",
    "pd.set_option('display.max_columns', 100)\n",
    "\n",
    "import pandas_profiling"
   ]
  },
  {
   "cell_type": "markdown",
   "metadata": {},
   "source": [
    "## DWJ and VIX comparison"
   ]
  },
  {
   "cell_type": "code",
   "execution_count": 3,
   "metadata": {},
   "outputs": [],
   "source": [
    "\"\"\"\n",
    "Sourced from the creators of vix (trustworthy source IMO) -- cboe\n",
    "http://www.cboe.com/products/vix-index-volatility/vix-options-and-futures/vix-index/vix-historical-data\n",
    "download 2004 -> present and subset the csv below.\n",
    "VIX Open, VIX High, VIX Low, VIX close have to be converted into float object\n",
    "\"\"\"\n",
    "vix_full = pd.read_csv('./data/vix_scraped_11_08_2019.csv')\n",
    "vix_full = vix_full.rename(columns=vix_full.iloc[0]).drop(vix_full.index[0])\n",
    "vix_full.Date = pd.to_datetime(vix_full.Date)\n",
    "\n",
    "vix_election_to_present = vix_full[vix_full['Date'] >= pd.Timestamp('11/09/2016')]\n",
    "vix_election_to_present.to_csv('./data/raw/vix_data.csv')"
   ]
  },
  {
   "cell_type": "code",
   "execution_count": 4,
   "metadata": {},
   "outputs": [
    {
     "name": "stdout",
     "output_type": "stream",
     "text": [
      "<class 'pandas.core.frame.DataFrame'>\n",
      "Int64Index: 754 entries, 3238 to 3991\n",
      "Data columns (total 5 columns):\n",
      "Date         754 non-null datetime64[ns]\n",
      "VIX Open     754 non-null object\n",
      "VIX High     754 non-null object\n",
      "VIX Low      754 non-null object\n",
      "VIX Close    754 non-null object\n",
      "dtypes: datetime64[ns](1), object(4)\n",
      "memory usage: 35.3+ KB\n"
     ]
    }
   ],
   "source": [
    "vix_election_to_present.info()"
   ]
  },
  {
   "cell_type": "code",
   "execution_count": 5,
   "metadata": {},
   "outputs": [
    {
     "name": "stderr",
     "output_type": "stream",
     "text": [
      "/Users/dylandemarco/PSets/Venvs/CS109Venv/lib/python3.7/site-packages/ipykernel_launcher.py:1: SettingWithCopyWarning: \n",
      "A value is trying to be set on a copy of a slice from a DataFrame.\n",
      "Try using .loc[row_indexer,col_indexer] = value instead\n",
      "\n",
      "See the caveats in the documentation: http://pandas.pydata.org/pandas-docs/stable/user_guide/indexing.html#returning-a-view-versus-a-copy\n",
      "  \"\"\"Entry point for launching an IPython kernel.\n"
     ]
    }
   ],
   "source": [
    "vix_election_to_present['VIX Open'] = vix_election_to_present['VIX Open'].astype(float)"
   ]
  },
  {
   "cell_type": "code",
   "execution_count": 6,
   "metadata": {},
   "outputs": [
    {
     "name": "stderr",
     "output_type": "stream",
     "text": [
      "/Users/dylandemarco/PSets/Venvs/CS109Venv/lib/python3.7/site-packages/ipykernel_launcher.py:1: SettingWithCopyWarning: \n",
      "A value is trying to be set on a copy of a slice from a DataFrame.\n",
      "Try using .loc[row_indexer,col_indexer] = value instead\n",
      "\n",
      "See the caveats in the documentation: http://pandas.pydata.org/pandas-docs/stable/user_guide/indexing.html#returning-a-view-versus-a-copy\n",
      "  \"\"\"Entry point for launching an IPython kernel.\n"
     ]
    }
   ],
   "source": [
    "vix_election_to_present['m_y']= pd.to_datetime(vix_election_to_present.Date).dt.to_period('M')"
   ]
  },
  {
   "cell_type": "code",
   "execution_count": 7,
   "metadata": {},
   "outputs": [
    {
     "data": {
      "text/html": [
       "<div>\n",
       "<style scoped>\n",
       "    .dataframe tbody tr th:only-of-type {\n",
       "        vertical-align: middle;\n",
       "    }\n",
       "\n",
       "    .dataframe tbody tr th {\n",
       "        vertical-align: top;\n",
       "    }\n",
       "\n",
       "    .dataframe thead th {\n",
       "        text-align: right;\n",
       "    }\n",
       "</style>\n",
       "<table border=\"1\" class=\"dataframe\">\n",
       "  <thead>\n",
       "    <tr style=\"text-align: right;\">\n",
       "      <th></th>\n",
       "      <th>VIX Open</th>\n",
       "    </tr>\n",
       "  </thead>\n",
       "  <tbody>\n",
       "    <tr>\n",
       "      <td>VIX Open</td>\n",
       "      <td>1.0</td>\n",
       "    </tr>\n",
       "  </tbody>\n",
       "</table>\n",
       "</div>"
      ],
      "text/plain": [
       "          VIX Open\n",
       "VIX Open       1.0"
      ]
     },
     "execution_count": 7,
     "metadata": {},
     "output_type": "execute_result"
    }
   ],
   "source": [
    "vix_election_to_present.corr()"
   ]
  },
  {
   "cell_type": "code",
   "execution_count": 8,
   "metadata": {},
   "outputs": [
    {
     "data": {
      "text/plain": [
       "3238    20.70\n",
       "3239    14.01\n",
       "3240    14.83\n",
       "3241    14.69\n",
       "3242    14.16\n",
       "        ...  \n",
       "3987    12.99\n",
       "3988    12.68\n",
       "3989    12.85\n",
       "3990    13.18\n",
       "3991    12.59\n",
       "Name: VIX Open, Length: 754, dtype: float64"
      ]
     },
     "execution_count": 8,
     "metadata": {},
     "output_type": "execute_result"
    }
   ],
   "source": [
    "vix_open = vix_election_to_present['VIX Open']\n",
    "vix_open"
   ]
  },
  {
   "cell_type": "markdown",
   "metadata": {},
   "source": [
    "# Load the Dow Jones data"
   ]
  },
  {
   "cell_type": "code",
   "execution_count": 9,
   "metadata": {},
   "outputs": [
    {
     "data": {
      "text/html": [
       "<div>\n",
       "<style scoped>\n",
       "    .dataframe tbody tr th:only-of-type {\n",
       "        vertical-align: middle;\n",
       "    }\n",
       "\n",
       "    .dataframe tbody tr th {\n",
       "        vertical-align: top;\n",
       "    }\n",
       "\n",
       "    .dataframe thead th {\n",
       "        text-align: right;\n",
       "    }\n",
       "</style>\n",
       "<table border=\"1\" class=\"dataframe\">\n",
       "  <thead>\n",
       "    <tr style=\"text-align: right;\">\n",
       "      <th></th>\n",
       "      <th>Date</th>\n",
       "      <th>Open</th>\n",
       "      <th>High</th>\n",
       "      <th>Low</th>\n",
       "      <th>Close</th>\n",
       "      <th>Adj Close</th>\n",
       "      <th>Volume</th>\n",
       "    </tr>\n",
       "  </thead>\n",
       "  <tbody>\n",
       "    <tr>\n",
       "      <td>0</td>\n",
       "      <td>2016-11-09</td>\n",
       "      <td>18317.259766</td>\n",
       "      <td>18650.060547</td>\n",
       "      <td>18252.550781</td>\n",
       "      <td>18589.689453</td>\n",
       "      <td>18589.689453</td>\n",
       "      <td>173110000</td>\n",
       "    </tr>\n",
       "    <tr>\n",
       "      <td>1</td>\n",
       "      <td>2016-11-10</td>\n",
       "      <td>18603.140625</td>\n",
       "      <td>18873.660156</td>\n",
       "      <td>18603.140625</td>\n",
       "      <td>18807.880859</td>\n",
       "      <td>18807.880859</td>\n",
       "      <td>164390000</td>\n",
       "    </tr>\n",
       "    <tr>\n",
       "      <td>2</td>\n",
       "      <td>2016-11-11</td>\n",
       "      <td>18781.650391</td>\n",
       "      <td>18855.779297</td>\n",
       "      <td>18736.960938</td>\n",
       "      <td>18847.660156</td>\n",
       "      <td>18847.660156</td>\n",
       "      <td>107300000</td>\n",
       "    </tr>\n",
       "    <tr>\n",
       "      <td>3</td>\n",
       "      <td>2016-11-14</td>\n",
       "      <td>18876.769531</td>\n",
       "      <td>18934.050781</td>\n",
       "      <td>18815.750000</td>\n",
       "      <td>18868.689453</td>\n",
       "      <td>18868.689453</td>\n",
       "      <td>112250000</td>\n",
       "    </tr>\n",
       "    <tr>\n",
       "      <td>4</td>\n",
       "      <td>2016-11-15</td>\n",
       "      <td>18858.210938</td>\n",
       "      <td>18925.259766</td>\n",
       "      <td>18806.060547</td>\n",
       "      <td>18923.060547</td>\n",
       "      <td>18923.060547</td>\n",
       "      <td>100660000</td>\n",
       "    </tr>\n",
       "  </tbody>\n",
       "</table>\n",
       "</div>"
      ],
      "text/plain": [
       "         Date          Open          High           Low         Close     Adj Close     Volume\n",
       "0  2016-11-09  18317.259766  18650.060547  18252.550781  18589.689453  18589.689453  173110000\n",
       "1  2016-11-10  18603.140625  18873.660156  18603.140625  18807.880859  18807.880859  164390000\n",
       "2  2016-11-11  18781.650391  18855.779297  18736.960938  18847.660156  18847.660156  107300000\n",
       "3  2016-11-14  18876.769531  18934.050781  18815.750000  18868.689453  18868.689453  112250000\n",
       "4  2016-11-15  18858.210938  18925.259766  18806.060547  18923.060547  18923.060547  100660000"
      ]
     },
     "execution_count": 9,
     "metadata": {},
     "output_type": "execute_result"
    }
   ],
   "source": [
    "dwj_election_to_present = pd.read_csv('./data/DJI.csv', header = 0)\n",
    "# look at the raw dara\n",
    "dwj_election_to_present.head()"
   ]
  },
  {
   "cell_type": "code",
   "execution_count": 10,
   "metadata": {},
   "outputs": [
    {
     "data": {
      "text/html": [
       "<div>\n",
       "<style scoped>\n",
       "    .dataframe tbody tr th:only-of-type {\n",
       "        vertical-align: middle;\n",
       "    }\n",
       "\n",
       "    .dataframe tbody tr th {\n",
       "        vertical-align: top;\n",
       "    }\n",
       "\n",
       "    .dataframe thead th {\n",
       "        text-align: right;\n",
       "    }\n",
       "</style>\n",
       "<table border=\"1\" class=\"dataframe\">\n",
       "  <thead>\n",
       "    <tr style=\"text-align: right;\">\n",
       "      <th></th>\n",
       "      <th>DWJ Open</th>\n",
       "      <th>DWJ High</th>\n",
       "      <th>DWJ Low</th>\n",
       "      <th>DWJ Close</th>\n",
       "      <th>DWJ Range</th>\n",
       "      <th>DWJ Change</th>\n",
       "    </tr>\n",
       "  </thead>\n",
       "  <tbody>\n",
       "    <tr>\n",
       "      <td>DWJ Open</td>\n",
       "      <td>1.000000</td>\n",
       "      <td>0.998954</td>\n",
       "      <td>0.997978</td>\n",
       "      <td>0.997170</td>\n",
       "      <td>0.297446</td>\n",
       "      <td>-0.074763</td>\n",
       "    </tr>\n",
       "    <tr>\n",
       "      <td>DWJ High</td>\n",
       "      <td>0.998954</td>\n",
       "      <td>1.000000</td>\n",
       "      <td>0.997382</td>\n",
       "      <td>0.998324</td>\n",
       "      <td>0.319265</td>\n",
       "      <td>-0.045552</td>\n",
       "    </tr>\n",
       "    <tr>\n",
       "      <td>DWJ Low</td>\n",
       "      <td>0.997978</td>\n",
       "      <td>0.997382</td>\n",
       "      <td>1.000000</td>\n",
       "      <td>0.998651</td>\n",
       "      <td>0.249903</td>\n",
       "      <td>-0.028227</td>\n",
       "    </tr>\n",
       "    <tr>\n",
       "      <td>DWJ Close</td>\n",
       "      <td>0.997170</td>\n",
       "      <td>0.998324</td>\n",
       "      <td>0.998651</td>\n",
       "      <td>1.000000</td>\n",
       "      <td>0.280186</td>\n",
       "      <td>0.000411</td>\n",
       "    </tr>\n",
       "    <tr>\n",
       "      <td>DWJ Range</td>\n",
       "      <td>0.297446</td>\n",
       "      <td>0.319265</td>\n",
       "      <td>0.249903</td>\n",
       "      <td>0.280186</td>\n",
       "      <td>1.000000</td>\n",
       "      <td>-0.240031</td>\n",
       "    </tr>\n",
       "    <tr>\n",
       "      <td>DWJ Change</td>\n",
       "      <td>-0.074763</td>\n",
       "      <td>-0.045552</td>\n",
       "      <td>-0.028227</td>\n",
       "      <td>0.000411</td>\n",
       "      <td>-0.240031</td>\n",
       "      <td>1.000000</td>\n",
       "    </tr>\n",
       "  </tbody>\n",
       "</table>\n",
       "</div>"
      ],
      "text/plain": [
       "            DWJ Open  DWJ High   DWJ Low  DWJ Close  DWJ Range  DWJ Change\n",
       "DWJ Open    1.000000  0.998954  0.997978   0.997170   0.297446   -0.074763\n",
       "DWJ High    0.998954  1.000000  0.997382   0.998324   0.319265   -0.045552\n",
       "DWJ Low     0.997978  0.997382  1.000000   0.998651   0.249903   -0.028227\n",
       "DWJ Close   0.997170  0.998324  0.998651   1.000000   0.280186    0.000411\n",
       "DWJ Range   0.297446  0.319265  0.249903   0.280186   1.000000   -0.240031\n",
       "DWJ Change -0.074763 -0.045552 -0.028227   0.000411  -0.240031    1.000000"
      ]
     },
     "execution_count": 10,
     "metadata": {},
     "output_type": "execute_result"
    }
   ],
   "source": [
    "# rename and get the correspodning variable for DWJ\n",
    "dwj_election_to_present.rename(columns={'Open':'DWJ Open', 'High':'DWJ High', 'Low':'DWJ Low', 'Close':'DWJ Close'}, inplace=True)\n",
    "dwj_election_to_present = dwj_election_to_present.iloc[:,0:5]\n",
    "dwj_election_to_present['DWJ Open'] = dwj_election_to_present['DWJ Open'].astype(float)\n",
    "dwj_election_to_present['DWJ High'] = dwj_election_to_present['DWJ High'].astype(float)\n",
    "dwj_election_to_present['DWJ Low'] = dwj_election_to_present['DWJ Low'].astype(float)\n",
    "dwj_election_to_present['DWJ Close'] = dwj_election_to_present['DWJ Close'].astype(float)\n",
    "dwj_election_to_present['DWJ Range'] = dwj_election_to_present['DWJ High'] - dwj_election_to_present['DWJ Low']\n",
    "dwj_election_to_present['DWJ Change'] = dwj_election_to_present['DWJ Close'] - dwj_election_to_present['DWJ Open']\n",
    "\n",
    "dwj_election_to_present.corr()"
   ]
  },
  {
   "cell_type": "markdown",
   "metadata": {},
   "source": [
    "DWJ has higher correlations than VIX among Open, High, Low, and Close values "
   ]
  },
  {
   "cell_type": "markdown",
   "metadata": {},
   "source": [
    "# Examine the VIX Open variable"
   ]
  },
  {
   "cell_type": "code",
   "execution_count": 11,
   "metadata": {},
   "outputs": [
    {
     "name": "stdout",
     "output_type": "stream",
     "text": [
      "The correlation between VIX Open and DWJ Open is 0.29281610873794794\n",
      "The correlation between VIX Open and DWJ High is 0.3164487278215937\n",
      "The correlation between VIX Open and DWJ Low is 0.26748131865250163\n",
      "The correlation between VIX Open and DWJ Close is 0.2949194703411256\n",
      "The correlation between VIX Open and DWJ Range is 0.7319134263769348\n",
      "The correlation between VIX Open and DWJ Change is 0.017000663957385004\n"
     ]
    }
   ],
   "source": [
    "# correlation between VIX open and DWJ variables\n",
    "\n",
    "for i in range(6):\n",
    "    column = dwj_election_to_present.columns[i+1]\n",
    "    correlation = np.corrcoef(vix_election_to_present['VIX Open'], dwj_election_to_present[column])[0,1]\n",
    "    print('The correlation between VIX Open and {} is {}'.format(column, correlation))\n"
   ]
  },
  {
   "cell_type": "code",
   "execution_count": 12,
   "metadata": {},
   "outputs": [
    {
     "ename": "TypeError",
     "evalue": "unsupported operand type(s) for /: 'str' and 'int'",
     "output_type": "error",
     "traceback": [
      "\u001b[0;31m---------------------------------------------------------------------------\u001b[0m",
      "\u001b[0;31mTypeError\u001b[0m                                 Traceback (most recent call last)",
      "\u001b[0;32m<ipython-input-12-344e861db0dd>\u001b[0m in \u001b[0;36m<module>\u001b[0;34m\u001b[0m\n\u001b[1;32m      1\u001b[0m \u001b[0;32mfor\u001b[0m \u001b[0mi\u001b[0m \u001b[0;32min\u001b[0m \u001b[0mrange\u001b[0m\u001b[0;34m(\u001b[0m\u001b[0;36m6\u001b[0m\u001b[0;34m)\u001b[0m\u001b[0;34m:\u001b[0m\u001b[0;34m\u001b[0m\u001b[0;34m\u001b[0m\u001b[0m\n\u001b[1;32m      2\u001b[0m     \u001b[0mcolumn\u001b[0m \u001b[0;34m=\u001b[0m \u001b[0mdwj_election_to_present\u001b[0m\u001b[0;34m.\u001b[0m\u001b[0mcolumns\u001b[0m\u001b[0;34m[\u001b[0m\u001b[0mi\u001b[0m\u001b[0;34m+\u001b[0m\u001b[0;36m1\u001b[0m\u001b[0;34m]\u001b[0m\u001b[0;34m\u001b[0m\u001b[0;34m\u001b[0m\u001b[0m\n\u001b[0;32m----> 3\u001b[0;31m     \u001b[0mcorrelation\u001b[0m \u001b[0;34m=\u001b[0m \u001b[0mnp\u001b[0m\u001b[0;34m.\u001b[0m\u001b[0mcorrcoef\u001b[0m\u001b[0;34m(\u001b[0m\u001b[0mvix_election_to_present\u001b[0m\u001b[0;34m[\u001b[0m\u001b[0;34m'VIX High'\u001b[0m\u001b[0;34m]\u001b[0m\u001b[0;34m,\u001b[0m \u001b[0mdwj_election_to_present\u001b[0m\u001b[0;34m[\u001b[0m\u001b[0mcolumn\u001b[0m\u001b[0;34m]\u001b[0m\u001b[0;34m)\u001b[0m\u001b[0;34m[\u001b[0m\u001b[0;36m0\u001b[0m\u001b[0;34m,\u001b[0m\u001b[0;36m1\u001b[0m\u001b[0;34m]\u001b[0m\u001b[0;34m\u001b[0m\u001b[0;34m\u001b[0m\u001b[0m\n\u001b[0m\u001b[1;32m      4\u001b[0m     \u001b[0mprint\u001b[0m\u001b[0;34m(\u001b[0m\u001b[0;34m'The correlation between VIX High and {} is {}'\u001b[0m\u001b[0;34m.\u001b[0m\u001b[0mformat\u001b[0m\u001b[0;34m(\u001b[0m\u001b[0mcolumn\u001b[0m\u001b[0;34m,\u001b[0m \u001b[0mcorrelation\u001b[0m\u001b[0;34m)\u001b[0m\u001b[0;34m)\u001b[0m\u001b[0;34m\u001b[0m\u001b[0;34m\u001b[0m\u001b[0m\n",
      "\u001b[0;32m<__array_function__ internals>\u001b[0m in \u001b[0;36mcorrcoef\u001b[0;34m(*args, **kwargs)\u001b[0m\n",
      "\u001b[0;32m~/PSets/Venvs/CS109Venv/lib/python3.7/site-packages/numpy/lib/function_base.py\u001b[0m in \u001b[0;36mcorrcoef\u001b[0;34m(x, y, rowvar, bias, ddof)\u001b[0m\n\u001b[1;32m   2524\u001b[0m         warnings.warn('bias and ddof have no effect and are deprecated',\n\u001b[1;32m   2525\u001b[0m                       DeprecationWarning, stacklevel=3)\n\u001b[0;32m-> 2526\u001b[0;31m     \u001b[0mc\u001b[0m \u001b[0;34m=\u001b[0m \u001b[0mcov\u001b[0m\u001b[0;34m(\u001b[0m\u001b[0mx\u001b[0m\u001b[0;34m,\u001b[0m \u001b[0my\u001b[0m\u001b[0;34m,\u001b[0m \u001b[0mrowvar\u001b[0m\u001b[0;34m)\u001b[0m\u001b[0;34m\u001b[0m\u001b[0;34m\u001b[0m\u001b[0m\n\u001b[0m\u001b[1;32m   2527\u001b[0m     \u001b[0;32mtry\u001b[0m\u001b[0;34m:\u001b[0m\u001b[0;34m\u001b[0m\u001b[0;34m\u001b[0m\u001b[0m\n\u001b[1;32m   2528\u001b[0m         \u001b[0md\u001b[0m \u001b[0;34m=\u001b[0m \u001b[0mdiag\u001b[0m\u001b[0;34m(\u001b[0m\u001b[0mc\u001b[0m\u001b[0;34m)\u001b[0m\u001b[0;34m\u001b[0m\u001b[0;34m\u001b[0m\u001b[0m\n",
      "\u001b[0;32m<__array_function__ internals>\u001b[0m in \u001b[0;36mcov\u001b[0;34m(*args, **kwargs)\u001b[0m\n",
      "\u001b[0;32m~/PSets/Venvs/CS109Venv/lib/python3.7/site-packages/numpy/lib/function_base.py\u001b[0m in \u001b[0;36mcov\u001b[0;34m(m, y, rowvar, bias, ddof, fweights, aweights)\u001b[0m\n\u001b[1;32m   2429\u001b[0m             \u001b[0mw\u001b[0m \u001b[0;34m*=\u001b[0m \u001b[0maweights\u001b[0m\u001b[0;34m\u001b[0m\u001b[0;34m\u001b[0m\u001b[0m\n\u001b[1;32m   2430\u001b[0m \u001b[0;34m\u001b[0m\u001b[0m\n\u001b[0;32m-> 2431\u001b[0;31m     \u001b[0mavg\u001b[0m\u001b[0;34m,\u001b[0m \u001b[0mw_sum\u001b[0m \u001b[0;34m=\u001b[0m \u001b[0maverage\u001b[0m\u001b[0;34m(\u001b[0m\u001b[0mX\u001b[0m\u001b[0;34m,\u001b[0m \u001b[0maxis\u001b[0m\u001b[0;34m=\u001b[0m\u001b[0;36m1\u001b[0m\u001b[0;34m,\u001b[0m \u001b[0mweights\u001b[0m\u001b[0;34m=\u001b[0m\u001b[0mw\u001b[0m\u001b[0;34m,\u001b[0m \u001b[0mreturned\u001b[0m\u001b[0;34m=\u001b[0m\u001b[0;32mTrue\u001b[0m\u001b[0;34m)\u001b[0m\u001b[0;34m\u001b[0m\u001b[0;34m\u001b[0m\u001b[0m\n\u001b[0m\u001b[1;32m   2432\u001b[0m     \u001b[0mw_sum\u001b[0m \u001b[0;34m=\u001b[0m \u001b[0mw_sum\u001b[0m\u001b[0;34m[\u001b[0m\u001b[0;36m0\u001b[0m\u001b[0;34m]\u001b[0m\u001b[0;34m\u001b[0m\u001b[0;34m\u001b[0m\u001b[0m\n\u001b[1;32m   2433\u001b[0m \u001b[0;34m\u001b[0m\u001b[0m\n",
      "\u001b[0;32m<__array_function__ internals>\u001b[0m in \u001b[0;36maverage\u001b[0;34m(*args, **kwargs)\u001b[0m\n",
      "\u001b[0;32m~/PSets/Venvs/CS109Venv/lib/python3.7/site-packages/numpy/lib/function_base.py\u001b[0m in \u001b[0;36maverage\u001b[0;34m(a, axis, weights, returned)\u001b[0m\n\u001b[1;32m    388\u001b[0m \u001b[0;34m\u001b[0m\u001b[0m\n\u001b[1;32m    389\u001b[0m     \u001b[0;32mif\u001b[0m \u001b[0mweights\u001b[0m \u001b[0;32mis\u001b[0m \u001b[0;32mNone\u001b[0m\u001b[0;34m:\u001b[0m\u001b[0;34m\u001b[0m\u001b[0;34m\u001b[0m\u001b[0m\n\u001b[0;32m--> 390\u001b[0;31m         \u001b[0mavg\u001b[0m \u001b[0;34m=\u001b[0m \u001b[0ma\u001b[0m\u001b[0;34m.\u001b[0m\u001b[0mmean\u001b[0m\u001b[0;34m(\u001b[0m\u001b[0maxis\u001b[0m\u001b[0;34m)\u001b[0m\u001b[0;34m\u001b[0m\u001b[0;34m\u001b[0m\u001b[0m\n\u001b[0m\u001b[1;32m    391\u001b[0m         \u001b[0mscl\u001b[0m \u001b[0;34m=\u001b[0m \u001b[0mavg\u001b[0m\u001b[0;34m.\u001b[0m\u001b[0mdtype\u001b[0m\u001b[0;34m.\u001b[0m\u001b[0mtype\u001b[0m\u001b[0;34m(\u001b[0m\u001b[0ma\u001b[0m\u001b[0;34m.\u001b[0m\u001b[0msize\u001b[0m\u001b[0;34m/\u001b[0m\u001b[0mavg\u001b[0m\u001b[0;34m.\u001b[0m\u001b[0msize\u001b[0m\u001b[0;34m)\u001b[0m\u001b[0;34m\u001b[0m\u001b[0;34m\u001b[0m\u001b[0m\n\u001b[1;32m    392\u001b[0m     \u001b[0;32melse\u001b[0m\u001b[0;34m:\u001b[0m\u001b[0;34m\u001b[0m\u001b[0;34m\u001b[0m\u001b[0m\n",
      "\u001b[0;32m~/PSets/Venvs/CS109Venv/lib/python3.7/site-packages/numpy/core/_methods.py\u001b[0m in \u001b[0;36m_mean\u001b[0;34m(a, axis, dtype, out, keepdims)\u001b[0m\n\u001b[1;32m    152\u001b[0m     \u001b[0;32mif\u001b[0m \u001b[0misinstance\u001b[0m\u001b[0;34m(\u001b[0m\u001b[0mret\u001b[0m\u001b[0;34m,\u001b[0m \u001b[0mmu\u001b[0m\u001b[0;34m.\u001b[0m\u001b[0mndarray\u001b[0m\u001b[0;34m)\u001b[0m\u001b[0;34m:\u001b[0m\u001b[0;34m\u001b[0m\u001b[0;34m\u001b[0m\u001b[0m\n\u001b[1;32m    153\u001b[0m         ret = um.true_divide(\n\u001b[0;32m--> 154\u001b[0;31m                 ret, rcount, out=ret, casting='unsafe', subok=False)\n\u001b[0m\u001b[1;32m    155\u001b[0m         \u001b[0;32mif\u001b[0m \u001b[0mis_float16_result\u001b[0m \u001b[0;32mand\u001b[0m \u001b[0mout\u001b[0m \u001b[0;32mis\u001b[0m \u001b[0;32mNone\u001b[0m\u001b[0;34m:\u001b[0m\u001b[0;34m\u001b[0m\u001b[0;34m\u001b[0m\u001b[0m\n\u001b[1;32m    156\u001b[0m             \u001b[0mret\u001b[0m \u001b[0;34m=\u001b[0m \u001b[0marr\u001b[0m\u001b[0;34m.\u001b[0m\u001b[0mdtype\u001b[0m\u001b[0;34m.\u001b[0m\u001b[0mtype\u001b[0m\u001b[0;34m(\u001b[0m\u001b[0mret\u001b[0m\u001b[0;34m)\u001b[0m\u001b[0;34m\u001b[0m\u001b[0;34m\u001b[0m\u001b[0m\n",
      "\u001b[0;31mTypeError\u001b[0m: unsupported operand type(s) for /: 'str' and 'int'"
     ]
    }
   ],
   "source": [
    "for i in range(6):\n",
    "    column = dwj_election_to_present.columns[i+1]\n",
    "    correlation = np.corrcoef(vix_election_to_present['VIX High'], dwj_election_to_present[column])[0,1]\n",
    "    print('The correlation between VIX High and {} is {}'.format(column, correlation))"
   ]
  },
  {
   "cell_type": "code",
   "execution_count": null,
   "metadata": {},
   "outputs": [],
   "source": [
    "for i in range(6):\n",
    "    column = dwj_election_to_present.columns[i+1]\n",
    "    correlation = np.corrcoef(vix_election_to_present['VIX Low'], dwj_election_to_present[column])[0,1]\n",
    "    print('The correlation between VIX Low and {} is {}'.format(column, correlation))"
   ]
  },
  {
   "cell_type": "code",
   "execution_count": null,
   "metadata": {},
   "outputs": [],
   "source": [
    "for i in range(6):\n",
    "    column = dwj_election_to_present.columns[i+1]\n",
    "    correlation = np.corrcoef(vix_election_to_present['VIX Close'], dwj_election_to_present[column])[0,1]\n",
    "    print('The correlation between VIX Close and {} is {}'.format(column, correlation))"
   ]
  },
  {
   "cell_type": "code",
   "execution_count": null,
   "metadata": {},
   "outputs": [],
   "source": [
    "for i in range(6):\n",
    "    column = dwj_election_to_present.columns[i+1]\n",
    "    correlation = np.corrcoef(vix_election_to_present['VIX Range'], dwj_election_to_present[column])[0,1]\n",
    "    print('The correlation between VIX Range and {} is {}'.format(column, correlation))"
   ]
  },
  {
   "cell_type": "code",
   "execution_count": null,
   "metadata": {},
   "outputs": [],
   "source": [
    "for i in range(6):\n",
    "    column = dwj_election_to_present.columns[i+1]\n",
    "    correlation = np.corrcoef(vix_election_to_present['VIX Change'], dwj_election_to_present[column])[0,1]\n",
    "    print('The correlation between VIX Change and {} is {}'.format(column, correlation))"
   ]
  },
  {
   "cell_type": "markdown",
   "metadata": {},
   "source": [
    "# Comparioson between VIX Open and DWJ open "
   ]
  },
  {
   "cell_type": "code",
   "execution_count": null,
   "metadata": {},
   "outputs": [],
   "source": [
    "vix_open = vix_election_to_present['VIX Open'].values\n",
    "dwj_open = dwj_election_to_present['DWJ Open'].values\n",
    "date = vix_election_to_present['Date'].values\n",
    "m_y = vix_election_to_present['m_y'].values\n",
    "d = {'VIX Open': vix_open, 'DWJ Open': dwj_open, 'Date': date}\n",
    "df = pd.DataFrame(data=d)\n",
    "df.set_index(\"Date\",drop=True,inplace=True)\n",
    "df.plot(secondary_y=['DWJ Open'],grid=False, use_index=True)\n",
    "plt.show()"
   ]
  },
  {
   "cell_type": "markdown",
   "metadata": {},
   "source": [
    "# Comparioson between VIX Open and DWJ Range "
   ]
  },
  {
   "cell_type": "code",
   "execution_count": null,
   "metadata": {},
   "outputs": [],
   "source": [
    "vix_open = vix_election_to_present['VIX Open'].values\n",
    "dwj_range = dwj_election_to_present['DWJ Range'].values\n",
    "date = vix_election_to_present['Date'].values\n",
    "m_y = vix_election_to_present['m_y'].values\n",
    "d = {'VIX Open': vix_open, 'DWJ Range': dwj_range, 'Date': date}\n",
    "df = pd.DataFrame(data=d)\n",
    "df.set_index(\"Date\",drop=True,inplace=True)\n",
    "df.plot(secondary_y=['DWJ Range'],grid=False, use_index=True)\n",
    "plt.show()"
   ]
  },
  {
   "cell_type": "markdown",
   "metadata": {},
   "source": [
    "There is little correlation between VIX open and the DWJ variables (Left Graph) (Open, High, Low, Close). The correlation coefficient is  0.29, 0.32, 0.27, and  0.29 respectively. The DWJ range (DWJ High - DWJ Low) (Right Graph), however, shows a strong correlation with VIX open. \n",
    "The basic DWJ variables (Open, High, Low, Close) tell us only about the strength of the US economy. As the US economy keeps growing, the general trend of DWJ variables is just a rise. On the other hand, the DWJ range is the slope of economic growth, which tells us how sharply the US economy changes each day. This is exactly the same as volatility. This is why the DWJ range and VIX open are highly correlated.\n"
   ]
  }
 ],
 "metadata": {
  "kernelspec": {
   "display_name": "Python 3",
   "language": "python",
   "name": "python3"
  },
  "language_info": {
   "codemirror_mode": {
    "name": "ipython",
    "version": 3
   },
   "file_extension": ".py",
   "mimetype": "text/x-python",
   "name": "python",
   "nbconvert_exporter": "python",
   "pygments_lexer": "ipython3",
   "version": "3.7.3"
  }
 },
 "nbformat": 4,
 "nbformat_minor": 2
}

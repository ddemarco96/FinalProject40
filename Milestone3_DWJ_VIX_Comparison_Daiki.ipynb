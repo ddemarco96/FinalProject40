{
 "cells": [
  {
   "cell_type": "markdown",
   "metadata": {},
   "source": [
    "# <img style=\"float: left; padding-right: 10px; width: 45px\" src=\"https://raw.githubusercontent.com/Harvard-IACS/2018-CS109A/master/content/styles/iacs.png\"> CS109A Introduction to Data Science: \n",
    "\n",
    "## Final Project Group 40: Trump Tweets and Market Volatility\n",
    "\n",
    "\n",
    "**Harvard University**<br/>\n",
    "**Fall 2019**<br/>\n",
    "**Group**: Dylan DeMarco, Daiki Ina, Roger Zhang, Jerry Huang\n",
    "\n",
    "<hr style=\"height:2pt\">"
   ]
  },
  {
   "cell_type": "code",
   "execution_count": 3,
   "metadata": {},
   "outputs": [
    {
     "data": {
      "text/html": [
       "<style>\n",
       "blockquote { background: #AEDE94; }\n",
       "h1 { \n",
       "    padding-top: 25px;\n",
       "    padding-bottom: 25px;\n",
       "    text-align: left; \n",
       "    padding-left: 10px;\n",
       "    background-color: #DDDDDD; \n",
       "    color: black;\n",
       "}\n",
       "h2 { \n",
       "    padding-top: 10px;\n",
       "    padding-bottom: 10px;\n",
       "    text-align: left; \n",
       "    padding-left: 5px;\n",
       "    background-color: #EEEEEE; \n",
       "    color: black;\n",
       "}\n",
       "\n",
       "div.exercise {\n",
       "\tbackground-color: #ffcccc;\n",
       "\tborder-color: #E9967A; \t\n",
       "\tborder-left: 5px solid #800080; \n",
       "\tpadding: 0.5em;\n",
       "}\n",
       "\n",
       "span.sub-q {\n",
       "\tfont-weight: bold;\n",
       "}\n",
       "div.theme {\n",
       "\tbackground-color: #DDDDDD;\n",
       "\tborder-color: #E9967A; \t\n",
       "\tborder-left: 5px solid #800080; \n",
       "\tpadding: 0.5em;\n",
       "\tfont-size: 18pt;\n",
       "}\n",
       "div.gc { \n",
       "\tbackground-color: #AEDE94;\n",
       "\tborder-color: #E9967A; \t \n",
       "\tborder-left: 5px solid #800080; \n",
       "\tpadding: 0.5em;\n",
       "\tfont-size: 12pt;\n",
       "}\n",
       "p.q1 { \n",
       "    padding-top: 5px;\n",
       "    padding-bottom: 5px;\n",
       "    text-align: left; \n",
       "    padding-left: 5px;\n",
       "    background-color: #EEEEEE; \n",
       "    color: black;\n",
       "}\n",
       "header {\n",
       "   padding-top: 35px;\n",
       "    padding-bottom: 35px;\n",
       "    text-align: left; \n",
       "    padding-left: 10px;\n",
       "    background-color: #DDDDDD; \n",
       "    color: black;\n",
       "}\n",
       "</style>\n",
       "\n"
      ],
      "text/plain": [
       "<IPython.core.display.HTML object>"
      ]
     },
     "execution_count": 3,
     "metadata": {},
     "output_type": "execute_result"
    }
   ],
   "source": [
    "import requests\n",
    "from IPython.core.display import HTML, display\n",
    "styles = requests.get(\"https://raw.githubusercontent.com/Harvard-IACS/2018-CS109A/master/content/styles/cs109.css\").text\n",
    "HTML(styles)"
   ]
  },
  {
   "cell_type": "code",
   "execution_count": 4,
   "metadata": {},
   "outputs": [],
   "source": [
    "import requests\n",
    "from IPython.core.display import HTML, display\n",
    "styles = requests.get(\"https://raw.githubusercontent.com/Harvard-IACS/2018-CS109A/master/content/styles/cs109.css\").text\n",
    "HTML(styles)\n",
    "import numpy as np\n",
    "import pandas as pd\n",
    "import matplotlib.pyplot as plt\n",
    "\n",
    "%matplotlib inline\n",
    "\n",
    "import seaborn as sns\n",
    "sns.set(style='whitegrid')\n",
    "pd.set_option('display.width', 1500)\n",
    "pd.set_option('display.max_columns', 100)\n",
    "\n",
    "import pandas_profiling"
   ]
  },
  {
   "cell_type": "markdown",
   "metadata": {},
   "source": [
    "## DWJ and VIX comparison"
   ]
  },
  {
   "cell_type": "code",
   "execution_count": 29,
   "metadata": {},
   "outputs": [],
   "source": [
    "\"\"\"\n",
    "Sourced from the creators of vix (trustworthy source IMO) -- cboe\n",
    "http://www.cboe.com/products/vix-index-volatility/vix-options-and-futures/vix-index/vix-historical-data\n",
    "download 2004 -> present and subset the csv below.\n",
    "VIX Open, VIX High, VIX Low, VIX close have to be converted into float object\n",
    "\"\"\"\n",
    "vix_full = pd.read_csv('./data/vix_scraped_11_08_2019.csv')\n",
    "vix_full = vix_full.rename(columns=vix_full.iloc[0]).drop(vix_full.index[0])\n",
    "vix_full.Date = pd.to_datetime(vix_full.Date)\n",
    "\n",
    "vix_election_to_present = vix_full[vix_full['Date'] >= pd.Timestamp('11/09/2016')]\n",
    "vix_election_to_present.to_csv('./data/raw/vix_data.csv')"
   ]
  },
  {
   "cell_type": "code",
   "execution_count": 30,
   "metadata": {},
   "outputs": [
    {
     "name": "stdout",
     "output_type": "stream",
     "text": [
      "<class 'pandas.core.frame.DataFrame'>\n",
      "Int64Index: 754 entries, 3238 to 3991\n",
      "Data columns (total 5 columns):\n",
      "Date         754 non-null datetime64[ns]\n",
      "VIX Open     754 non-null object\n",
      "VIX High     754 non-null object\n",
      "VIX Low      754 non-null object\n",
      "VIX Close    754 non-null object\n",
      "dtypes: datetime64[ns](1), object(4)\n",
      "memory usage: 35.3+ KB\n"
     ]
    }
   ],
   "source": [
    "vix_election_to_present.info()"
   ]
  },
  {
   "cell_type": "code",
   "execution_count": 31,
   "metadata": {},
   "outputs": [
    {
     "name": "stderr",
     "output_type": "stream",
     "text": [
      "C:\\Users\\Daiki\\Anaconda3\\lib\\site-packages\\ipykernel_launcher.py:1: SettingWithCopyWarning: \n",
      "A value is trying to be set on a copy of a slice from a DataFrame.\n",
      "Try using .loc[row_indexer,col_indexer] = value instead\n",
      "\n",
      "See the caveats in the documentation: http://pandas.pydata.org/pandas-docs/stable/user_guide/indexing.html#returning-a-view-versus-a-copy\n",
      "  \"\"\"Entry point for launching an IPython kernel.\n"
     ]
    }
   ],
   "source": [
    "vix_election_to_present['VIX Open'] = vix_election_to_present['VIX Open'].astype(float)"
   ]
  },
  {
   "cell_type": "code",
   "execution_count": 32,
   "metadata": {},
   "outputs": [
    {
     "name": "stderr",
     "output_type": "stream",
     "text": [
      "C:\\Users\\Daiki\\Anaconda3\\lib\\site-packages\\ipykernel_launcher.py:1: SettingWithCopyWarning: \n",
      "A value is trying to be set on a copy of a slice from a DataFrame.\n",
      "Try using .loc[row_indexer,col_indexer] = value instead\n",
      "\n",
      "See the caveats in the documentation: http://pandas.pydata.org/pandas-docs/stable/user_guide/indexing.html#returning-a-view-versus-a-copy\n",
      "  \"\"\"Entry point for launching an IPython kernel.\n"
     ]
    }
   ],
   "source": [
    "vix_election_to_present['m_y']= pd.to_datetime(vix_election_to_present.Date).dt.to_period('M')"
   ]
  },
  {
   "cell_type": "code",
   "execution_count": 13,
   "metadata": {},
   "outputs": [
    {
     "data": {
      "text/html": [
       "<div>\n",
       "<style scoped>\n",
       "    .dataframe tbody tr th:only-of-type {\n",
       "        vertical-align: middle;\n",
       "    }\n",
       "\n",
       "    .dataframe tbody tr th {\n",
       "        vertical-align: top;\n",
       "    }\n",
       "\n",
       "    .dataframe thead th {\n",
       "        text-align: right;\n",
       "    }\n",
       "</style>\n",
       "<table border=\"1\" class=\"dataframe\">\n",
       "  <thead>\n",
       "    <tr style=\"text-align: right;\">\n",
       "      <th></th>\n",
       "      <th>VIX Open</th>\n",
       "      <th>VIX High</th>\n",
       "      <th>VIX Low</th>\n",
       "      <th>VIX Close</th>\n",
       "      <th>VIX Range</th>\n",
       "      <th>VIX Change</th>\n",
       "    </tr>\n",
       "  </thead>\n",
       "  <tbody>\n",
       "    <tr>\n",
       "      <td>VIX Open</td>\n",
       "      <td>1.000000</td>\n",
       "      <td>0.961973</td>\n",
       "      <td>0.977351</td>\n",
       "      <td>0.943093</td>\n",
       "      <td>0.616517</td>\n",
       "      <td>-0.170310</td>\n",
       "    </tr>\n",
       "    <tr>\n",
       "      <td>VIX High</td>\n",
       "      <td>0.961973</td>\n",
       "      <td>1.000000</td>\n",
       "      <td>0.945700</td>\n",
       "      <td>0.975007</td>\n",
       "      <td>0.777008</td>\n",
       "      <td>0.037011</td>\n",
       "    </tr>\n",
       "    <tr>\n",
       "      <td>VIX Low</td>\n",
       "      <td>0.977351</td>\n",
       "      <td>0.945700</td>\n",
       "      <td>1.000000</td>\n",
       "      <td>0.958102</td>\n",
       "      <td>0.530206</td>\n",
       "      <td>-0.058680</td>\n",
       "    </tr>\n",
       "    <tr>\n",
       "      <td>VIX Close</td>\n",
       "      <td>0.943093</td>\n",
       "      <td>0.975007</td>\n",
       "      <td>0.958102</td>\n",
       "      <td>1.000000</td>\n",
       "      <td>0.687795</td>\n",
       "      <td>0.167052</td>\n",
       "    </tr>\n",
       "    <tr>\n",
       "      <td>VIX Range</td>\n",
       "      <td>0.616517</td>\n",
       "      <td>0.777008</td>\n",
       "      <td>0.530206</td>\n",
       "      <td>0.687795</td>\n",
       "      <td>1.000000</td>\n",
       "      <td>0.210187</td>\n",
       "    </tr>\n",
       "    <tr>\n",
       "      <td>VIX Change</td>\n",
       "      <td>-0.170310</td>\n",
       "      <td>0.037011</td>\n",
       "      <td>-0.058680</td>\n",
       "      <td>0.167052</td>\n",
       "      <td>0.210187</td>\n",
       "      <td>1.000000</td>\n",
       "    </tr>\n",
       "  </tbody>\n",
       "</table>\n",
       "</div>"
      ],
      "text/plain": [
       "            VIX Open  VIX High   VIX Low  VIX Close  VIX Range  VIX Change\n",
       "VIX Open    1.000000  0.961973  0.977351   0.943093   0.616517   -0.170310\n",
       "VIX High    0.961973  1.000000  0.945700   0.975007   0.777008    0.037011\n",
       "VIX Low     0.977351  0.945700  1.000000   0.958102   0.530206   -0.058680\n",
       "VIX Close   0.943093  0.975007  0.958102   1.000000   0.687795    0.167052\n",
       "VIX Range   0.616517  0.777008  0.530206   0.687795   1.000000    0.210187\n",
       "VIX Change -0.170310  0.037011 -0.058680   0.167052   0.210187    1.000000"
      ]
     },
     "execution_count": 13,
     "metadata": {},
     "output_type": "execute_result"
    }
   ],
   "source": [
    "vix_election_to_present.corr()"
   ]
  },
  {
   "cell_type": "code",
   "execution_count": 14,
   "metadata": {},
   "outputs": [
    {
     "data": {
      "text/plain": [
       "3238    20.70\n",
       "3239    14.01\n",
       "3240    14.83\n",
       "3241    14.69\n",
       "3242    14.16\n",
       "        ...  \n",
       "3987    12.99\n",
       "3988    12.68\n",
       "3989    12.85\n",
       "3990    13.18\n",
       "3991    12.59\n",
       "Name: VIX Open, Length: 754, dtype: float64"
      ]
     },
     "execution_count": 14,
     "metadata": {},
     "output_type": "execute_result"
    }
   ],
   "source": [
    "vix_open = vix_election_to_present['VIX Open']\n",
    "vix_open"
   ]
  },
  {
   "cell_type": "markdown",
   "metadata": {},
   "source": [
    "# Load the Dow Jones data"
   ]
  },
  {
   "cell_type": "code",
   "execution_count": 15,
   "metadata": {},
   "outputs": [
    {
     "data": {
      "text/html": [
       "<div>\n",
       "<style scoped>\n",
       "    .dataframe tbody tr th:only-of-type {\n",
       "        vertical-align: middle;\n",
       "    }\n",
       "\n",
       "    .dataframe tbody tr th {\n",
       "        vertical-align: top;\n",
       "    }\n",
       "\n",
       "    .dataframe thead th {\n",
       "        text-align: right;\n",
       "    }\n",
       "</style>\n",
       "<table border=\"1\" class=\"dataframe\">\n",
       "  <thead>\n",
       "    <tr style=\"text-align: right;\">\n",
       "      <th></th>\n",
       "      <th>Date</th>\n",
       "      <th>Open</th>\n",
       "      <th>High</th>\n",
       "      <th>Low</th>\n",
       "      <th>Close</th>\n",
       "      <th>Adj Close</th>\n",
       "      <th>Volume</th>\n",
       "    </tr>\n",
       "  </thead>\n",
       "  <tbody>\n",
       "    <tr>\n",
       "      <td>0</td>\n",
       "      <td>2016-11-09</td>\n",
       "      <td>18317.259766</td>\n",
       "      <td>18650.060547</td>\n",
       "      <td>18252.550781</td>\n",
       "      <td>18589.689453</td>\n",
       "      <td>18589.689453</td>\n",
       "      <td>173110000</td>\n",
       "    </tr>\n",
       "    <tr>\n",
       "      <td>1</td>\n",
       "      <td>2016-11-10</td>\n",
       "      <td>18603.140625</td>\n",
       "      <td>18873.660156</td>\n",
       "      <td>18603.140625</td>\n",
       "      <td>18807.880859</td>\n",
       "      <td>18807.880859</td>\n",
       "      <td>164390000</td>\n",
       "    </tr>\n",
       "    <tr>\n",
       "      <td>2</td>\n",
       "      <td>2016-11-11</td>\n",
       "      <td>18781.650391</td>\n",
       "      <td>18855.779297</td>\n",
       "      <td>18736.960938</td>\n",
       "      <td>18847.660156</td>\n",
       "      <td>18847.660156</td>\n",
       "      <td>107300000</td>\n",
       "    </tr>\n",
       "    <tr>\n",
       "      <td>3</td>\n",
       "      <td>2016-11-14</td>\n",
       "      <td>18876.769531</td>\n",
       "      <td>18934.050781</td>\n",
       "      <td>18815.750000</td>\n",
       "      <td>18868.689453</td>\n",
       "      <td>18868.689453</td>\n",
       "      <td>112250000</td>\n",
       "    </tr>\n",
       "    <tr>\n",
       "      <td>4</td>\n",
       "      <td>2016-11-15</td>\n",
       "      <td>18858.210938</td>\n",
       "      <td>18925.259766</td>\n",
       "      <td>18806.060547</td>\n",
       "      <td>18923.060547</td>\n",
       "      <td>18923.060547</td>\n",
       "      <td>100660000</td>\n",
       "    </tr>\n",
       "  </tbody>\n",
       "</table>\n",
       "</div>"
      ],
      "text/plain": [
       "         Date          Open          High           Low         Close     Adj Close     Volume\n",
       "0  2016-11-09  18317.259766  18650.060547  18252.550781  18589.689453  18589.689453  173110000\n",
       "1  2016-11-10  18603.140625  18873.660156  18603.140625  18807.880859  18807.880859  164390000\n",
       "2  2016-11-11  18781.650391  18855.779297  18736.960938  18847.660156  18847.660156  107300000\n",
       "3  2016-11-14  18876.769531  18934.050781  18815.750000  18868.689453  18868.689453  112250000\n",
       "4  2016-11-15  18858.210938  18925.259766  18806.060547  18923.060547  18923.060547  100660000"
      ]
     },
     "execution_count": 15,
     "metadata": {},
     "output_type": "execute_result"
    }
   ],
   "source": [
    "dwj_election_to_present = pd.read_csv('./data/DJI.csv', header = 0)\n",
    "# look at the raw dara\n",
    "dwj_election_to_present.head()"
   ]
  },
  {
   "cell_type": "code",
   "execution_count": 16,
   "metadata": {},
   "outputs": [
    {
     "data": {
      "text/html": [
       "<div>\n",
       "<style scoped>\n",
       "    .dataframe tbody tr th:only-of-type {\n",
       "        vertical-align: middle;\n",
       "    }\n",
       "\n",
       "    .dataframe tbody tr th {\n",
       "        vertical-align: top;\n",
       "    }\n",
       "\n",
       "    .dataframe thead th {\n",
       "        text-align: right;\n",
       "    }\n",
       "</style>\n",
       "<table border=\"1\" class=\"dataframe\">\n",
       "  <thead>\n",
       "    <tr style=\"text-align: right;\">\n",
       "      <th></th>\n",
       "      <th>DWJ Open</th>\n",
       "      <th>DWJ High</th>\n",
       "      <th>DWJ Low</th>\n",
       "      <th>DWJ Close</th>\n",
       "      <th>DWJ Range</th>\n",
       "      <th>DWJ Change</th>\n",
       "    </tr>\n",
       "  </thead>\n",
       "  <tbody>\n",
       "    <tr>\n",
       "      <td>DWJ Open</td>\n",
       "      <td>1.000000</td>\n",
       "      <td>0.998954</td>\n",
       "      <td>0.997978</td>\n",
       "      <td>0.997170</td>\n",
       "      <td>0.297446</td>\n",
       "      <td>-0.074763</td>\n",
       "    </tr>\n",
       "    <tr>\n",
       "      <td>DWJ High</td>\n",
       "      <td>0.998954</td>\n",
       "      <td>1.000000</td>\n",
       "      <td>0.997382</td>\n",
       "      <td>0.998324</td>\n",
       "      <td>0.319265</td>\n",
       "      <td>-0.045552</td>\n",
       "    </tr>\n",
       "    <tr>\n",
       "      <td>DWJ Low</td>\n",
       "      <td>0.997978</td>\n",
       "      <td>0.997382</td>\n",
       "      <td>1.000000</td>\n",
       "      <td>0.998651</td>\n",
       "      <td>0.249903</td>\n",
       "      <td>-0.028227</td>\n",
       "    </tr>\n",
       "    <tr>\n",
       "      <td>DWJ Close</td>\n",
       "      <td>0.997170</td>\n",
       "      <td>0.998324</td>\n",
       "      <td>0.998651</td>\n",
       "      <td>1.000000</td>\n",
       "      <td>0.280186</td>\n",
       "      <td>0.000411</td>\n",
       "    </tr>\n",
       "    <tr>\n",
       "      <td>DWJ Range</td>\n",
       "      <td>0.297446</td>\n",
       "      <td>0.319265</td>\n",
       "      <td>0.249903</td>\n",
       "      <td>0.280186</td>\n",
       "      <td>1.000000</td>\n",
       "      <td>-0.240031</td>\n",
       "    </tr>\n",
       "    <tr>\n",
       "      <td>DWJ Change</td>\n",
       "      <td>-0.074763</td>\n",
       "      <td>-0.045552</td>\n",
       "      <td>-0.028227</td>\n",
       "      <td>0.000411</td>\n",
       "      <td>-0.240031</td>\n",
       "      <td>1.000000</td>\n",
       "    </tr>\n",
       "  </tbody>\n",
       "</table>\n",
       "</div>"
      ],
      "text/plain": [
       "            DWJ Open  DWJ High   DWJ Low  DWJ Close  DWJ Range  DWJ Change\n",
       "DWJ Open    1.000000  0.998954  0.997978   0.997170   0.297446   -0.074763\n",
       "DWJ High    0.998954  1.000000  0.997382   0.998324   0.319265   -0.045552\n",
       "DWJ Low     0.997978  0.997382  1.000000   0.998651   0.249903   -0.028227\n",
       "DWJ Close   0.997170  0.998324  0.998651   1.000000   0.280186    0.000411\n",
       "DWJ Range   0.297446  0.319265  0.249903   0.280186   1.000000   -0.240031\n",
       "DWJ Change -0.074763 -0.045552 -0.028227   0.000411  -0.240031    1.000000"
      ]
     },
     "execution_count": 16,
     "metadata": {},
     "output_type": "execute_result"
    }
   ],
   "source": [
    "# rename and get the correspodning variable for DWJ\n",
    "dwj_election_to_present.rename(columns={'Open':'DWJ Open', 'High':'DWJ High', 'Low':'DWJ Low', 'Close':'DWJ Close'}, inplace=True)\n",
    "dwj_election_to_present = dwj_election_to_present.iloc[:,0:5]\n",
    "dwj_election_to_present['DWJ Open'] = dwj_election_to_present['DWJ Open'].astype(float)\n",
    "dwj_election_to_present['DWJ High'] = dwj_election_to_present['DWJ High'].astype(float)\n",
    "dwj_election_to_present['DWJ Low'] = dwj_election_to_present['DWJ Low'].astype(float)\n",
    "dwj_election_to_present['DWJ Close'] = dwj_election_to_present['DWJ Close'].astype(float)\n",
    "dwj_election_to_present['DWJ Range'] = dwj_election_to_present['DWJ High'] - dwj_election_to_present['DWJ Low']\n",
    "dwj_election_to_present['DWJ Change'] = dwj_election_to_present['DWJ Close'] - dwj_election_to_present['DWJ Open']\n",
    "\n",
    "dwj_election_to_present.corr()"
   ]
  },
  {
   "cell_type": "markdown",
   "metadata": {},
   "source": [
    "DWJ has higher correlations than VIX among Open, High, Low, and Close values "
   ]
  },
  {
   "cell_type": "markdown",
   "metadata": {},
   "source": [
    "# Examine the VIX Open variable"
   ]
  },
  {
   "cell_type": "code",
   "execution_count": 17,
   "metadata": {},
   "outputs": [
    {
     "name": "stdout",
     "output_type": "stream",
     "text": [
      "The correlation between VIX Open and DWJ Open is 0.29281610873794783\n",
      "The correlation between VIX Open and DWJ High is 0.3164487278215938\n",
      "The correlation between VIX Open and DWJ Low is 0.26748131865250174\n",
      "The correlation between VIX Open and DWJ Close is 0.2949194703411257\n",
      "The correlation between VIX Open and DWJ Range is 0.7319134263769351\n",
      "The correlation between VIX Open and DWJ Change is 0.017000663957385018\n"
     ]
    }
   ],
   "source": [
    "# correlation between VIX open and DWJ variables\n",
    "\n",
    "for i in range(6):\n",
    "    column = dwj_election_to_present.columns[i+1]\n",
    "    correlation = np.corrcoef(vix_election_to_present['VIX Open'], dwj_election_to_present[column])[0,1]\n",
    "    print('The correlation between VIX Open and {} is {}'.format(column, correlation))\n"
   ]
  },
  {
   "cell_type": "code",
   "execution_count": 197,
   "metadata": {},
   "outputs": [
    {
     "name": "stdout",
     "output_type": "stream",
     "text": [
      "The correlation between VIX High and DWJ Open is 0.28818738111272263\n",
      "The correlation between VIX High and DWJ High is 0.30895080153158344\n",
      "The correlation between VIX High and DWJ Low is 0.25205232369329983\n",
      "The correlation between VIX High and DWJ Close is 0.2797602663792978\n",
      "The correlation between VIX High and DWJ Range is 0.8337169454851409\n",
      "The correlation between VIX High and DWJ Change is -0.1225178043025567\n"
     ]
    }
   ],
   "source": [
    "for i in range(6):\n",
    "    column = dwj_election_to_present.columns[i+1]\n",
    "    correlation = np.corrcoef(vix_election_to_present['VIX High'], dwj_election_to_present[column])[0,1]\n",
    "    print('The correlation between VIX High and {} is {}'.format(column, correlation))"
   ]
  },
  {
   "cell_type": "code",
   "execution_count": 186,
   "metadata": {},
   "outputs": [
    {
     "name": "stdout",
     "output_type": "stream",
     "text": [
      "The correlation between VIX Low and DWJ Open is 0.3194088798965943\n",
      "The correlation between VIX Low and DWJ High is 0.33889445355237385\n",
      "The correlation between VIX Low and DWJ Low is 0.29192900393512056\n",
      "The correlation between VIX Low and DWJ Close is 0.3157933460427876\n",
      "The correlation between VIX Low and DWJ Range is 0.7120729388721283\n",
      "The correlation between VIX Low and DWJ Change is 0.05985268916011022\n"
     ]
    }
   ],
   "source": [
    "for i in range(6):\n",
    "    column = dwj_election_to_present.columns[i+1]\n",
    "    correlation = np.corrcoef(vix_election_to_present['VIX Low'], dwj_election_to_present[column])[0,1]\n",
    "    print('The correlation between VIX Low and {} is {}'.format(column, correlation))"
   ]
  },
  {
   "cell_type": "code",
   "execution_count": 187,
   "metadata": {},
   "outputs": [
    {
     "name": "stdout",
     "output_type": "stream",
     "text": [
      "The correlation between VIX Close and DWJ Open is 0.31205047958228604\n",
      "The correlation between VIX Close and DWJ High is 0.32932851826024356\n",
      "The correlation between VIX Close and DWJ Low is 0.27442243417340695\n",
      "The correlation between VIX Close and DWJ Close is 0.295721383325361\n",
      "The correlation between VIX Close and DWJ Range is 0.8134125286358099\n",
      "The correlation between VIX Close and DWJ Change is 0.2282290051485141\n"
     ]
    }
   ],
   "source": [
    "for i in range(6):\n",
    "    column = dwj_election_to_present.columns[i+1]\n",
    "    correlation = np.corrcoef(vix_election_to_present['VIX Close'], dwj_election_to_present[column])[0,1]\n",
    "    print('The correlation between VIX Close and {} is {}'.format(column, correlation))"
   ]
  },
  {
   "cell_type": "code",
   "execution_count": 198,
   "metadata": {},
   "outputs": [
    {
     "name": "stdout",
     "output_type": "stream",
     "text": [
      "The correlation between VIX Range and DWJ Open is 0.13315288542448037\n",
      "The correlation between VIX Range and DWJ High is 0.14957749020443972\n",
      "The correlation between VIX Range and DWJ Low is 0.09211354584523232\n",
      "The correlation between VIX Range and DWJ Close is 0.11817278649536524\n",
      "The correlation between VIX Range and DWJ Range is 0.7957131143242879\n",
      "The correlation between VIX Range and DWJ Change is -0.20367387389272543\n"
     ]
    }
   ],
   "source": [
    "for i in range(6):\n",
    "    column = dwj_election_to_present.columns[i+1]\n",
    "    correlation = np.corrcoef(vix_election_to_present['VIX Range'], dwj_election_to_present[column])[0,1]\n",
    "    print('The correlation between VIX Range and {} is {}'.format(column, correlation))"
   ]
  },
  {
   "cell_type": "code",
   "execution_count": 200,
   "metadata": {},
   "outputs": [
    {
     "name": "stdout",
     "output_type": "stream",
     "text": [
      "The correlation between VIX Change and DWJ Open is 0.056506779663225544\n",
      "The correlation between VIX Change and DWJ High is 0.03763641845123222\n",
      "The correlation between VIX Change and DWJ Low is 0.020120271013511902\n",
      "The correlation between VIX Change and DWJ Close is 0.001881764135607824\n",
      "The correlation between VIX Change and DWJ Range is 0.24028148584203277\n",
      "The correlation between VIX Change and DWJ Change is -0.7267253827379618\n"
     ]
    }
   ],
   "source": [
    "for i in range(6):\n",
    "    column = dwj_election_to_present.columns[i+1]\n",
    "    correlation = np.corrcoef(vix_election_to_present['VIX Change'], dwj_election_to_present[column])[0,1]\n",
    "    print('The correlation between VIX Change and {} is {}'.format(column, correlation))"
   ]
  },
  {
   "cell_type": "markdown",
   "metadata": {},
   "source": [
    "# Comparioson between VIX Open and DWJ open "
   ]
  },
  {
   "cell_type": "code",
   "execution_count": 26,
   "metadata": {},
   "outputs": [
    {
     "data": {
      "image/png": "[encoded data removed]",
      "text/plain": [
       "<Figure size 432x288 with 2 Axes>"
      ]
     },
     "metadata": {
      "needs_background": "light"
     },
     "output_type": "display_data"
    }
   ],
   "source": [
    "vix_open = vix_election_to_present['VIX Open'].values\n",
    "dwj_open = dwj_election_to_present['DWJ Open'].values\n",
    "date = vix_election_to_present['Date'].values\n",
    "m_y = vix_election_to_present['m_y'].values\n",
    "d = {'VIX Open': vix_open, 'DWJ Open': dwj_open, 'Date': date}\n",
    "df = pd.DataFrame(data=d)\n",
    "df.set_index(\"Date\",drop=True,inplace=True)\n",
    "df.plot(secondary_y=['DWJ Open'],grid=False, use_index=True)\n",
    "plt.show()"
   ]
  },
  {
   "cell_type": "markdown",
   "metadata": {},
   "source": [
    "# Comparioson between VIX Open and DWJ Range "
   ]
  },
  {
   "cell_type": "code",
   "execution_count": 27,
   "metadata": {},
   "outputs": [
    {
     "data": {
      "image/png": "[encoded data removed]",
      "text/plain": [
       "<Figure size 432x288 with 2 Axes>"
      ]
     },
     "metadata": {
      "needs_background": "light"
     },
     "output_type": "display_data"
    }
   ],
   "source": [
    "vix_open = vix_election_to_present['VIX Open'].values\n",
    "dwj_range = dwj_election_to_present['DWJ Range'].values\n",
    "date = vix_election_to_present['Date'].values\n",
    "m_y = vix_election_to_present['m_y'].values\n",
    "d = {'VIX Open': vix_open, 'DWJ Range': dwj_range, 'Date': date}\n",
    "df = pd.DataFrame(data=d)\n",
    "df.set_index(\"Date\",drop=True,inplace=True)\n",
    "df.plot(secondary_y=['DWJ Range'],grid=False, use_index=True)\n",
    "plt.show()"
   ]
  },
  {
   "attachments": {},
   "cell_type": "markdown",
   "metadata": {},
   "source": [
    "There is little correlation between VIX open and the DWJ variables (Left Graph) (Open, High, Low, Close). The correlation coefficient is  0.29, 0.32, 0.27, and  0.29 respectively. The DWJ range (DWJ High - DWJ Low) (Right Graph), however, shows a strong correlation with VIX open. \n",
    "The basic DWJ variables (Open, High, Low, Close) tell us only about the strength of the US economy. As the US economy keeps growing, the general trend of DWJ variables is just a rise. On the other hand, the DWJ range is the slope of economic growth, which tells us how sharply the US economy changes each day. This is exactly the same as volatility. This is why the DWJ range and VIX open are highly correlated.\n"
   ]
  }
 ],
 "metadata": {
  "kernelspec": {
   "display_name": "Python 3",
   "language": "python",
   "name": "python3"
  },
  "language_info": {
   "codemirror_mode": {
    "name": "ipython",
    "version": 3
   },
   "file_extension": ".py",
   "mimetype": "text/x-python",
   "name": "python",
   "nbconvert_exporter": "python",
   "pygments_lexer": "ipython3",
   "version": "3.7.4"
  }
 },
 "nbformat": 4,
 "nbformat_minor": 2
}
